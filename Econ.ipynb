{
 "cells": [
  {
   "cell_type": "code",
   "execution_count": 1,
   "id": "20972a2c-9db2-49f2-a80d-abeaf24ccfbc",
   "metadata": {},
   "outputs": [],
   "source": [
    "import numpy as np\n",
    "import pandas as pd\n",
    "import matplotlib.pyplot as plt\n",
    "import seaborn as sns"
   ]
  },
  {
   "cell_type": "code",
   "execution_count": 2,
   "id": "60b25385-1c20-40d2-8250-e3e22b71732a",
   "metadata": {},
   "outputs": [],
   "source": [
    "cell_df = pd.read_csv('EconSurvey.csv');"
   ]
  },
  {
   "cell_type": "code",
   "execution_count": 3,
   "id": "405e2e51-e052-45d3-a201-e2aab8645c7d",
   "metadata": {},
   "outputs": [
    {
     "data": {
      "text/html": [
       "<div>\n",
       "<style scoped>\n",
       "    .dataframe tbody tr th:only-of-type {\n",
       "        vertical-align: middle;\n",
       "    }\n",
       "\n",
       "    .dataframe tbody tr th {\n",
       "        vertical-align: top;\n",
       "    }\n",
       "\n",
       "    .dataframe thead th {\n",
       "        text-align: right;\n",
       "    }\n",
       "</style>\n",
       "<table border=\"1\" class=\"dataframe\">\n",
       "  <thead>\n",
       "    <tr style=\"text-align: right;\">\n",
       "      <th></th>\n",
       "      <th>Acedemics</th>\n",
       "      <th>Communication</th>\n",
       "      <th>Conflict_Management</th>\n",
       "      <th>Critical_Thinking</th>\n",
       "      <th>Decision_Making</th>\n",
       "      <th>Emotional_Intelligence</th>\n",
       "      <th>Leadership</th>\n",
       "      <th>Self_Confidence</th>\n",
       "      <th>Teamwork</th>\n",
       "      <th>Time_Management</th>\n",
       "      <th>...</th>\n",
       "      <th>Belief_hv</th>\n",
       "      <th>Non_Violence_hv</th>\n",
       "      <th>Self_Discipline_hv</th>\n",
       "      <th>Kindness_hv</th>\n",
       "      <th>Integrity_hv</th>\n",
       "      <th>Health_And_Energy_hv</th>\n",
       "      <th>Gratitude_And_Appreciation_hv</th>\n",
       "      <th>Happiness</th>\n",
       "      <th>Friend_Friendship_hv</th>\n",
       "      <th>Peave_hv</th>\n",
       "    </tr>\n",
       "  </thead>\n",
       "  <tbody>\n",
       "    <tr>\n",
       "      <th>0</th>\n",
       "      <td>1</td>\n",
       "      <td>4.00</td>\n",
       "      <td>2.67</td>\n",
       "      <td>4.33</td>\n",
       "      <td>4.33</td>\n",
       "      <td>5.00</td>\n",
       "      <td>3.33</td>\n",
       "      <td>4.33</td>\n",
       "      <td>4.67</td>\n",
       "      <td>5.00</td>\n",
       "      <td>...</td>\n",
       "      <td>3.27</td>\n",
       "      <td>3.17</td>\n",
       "      <td>3.20</td>\n",
       "      <td>3.93</td>\n",
       "      <td>3.60</td>\n",
       "      <td>3.87</td>\n",
       "      <td>3.73</td>\n",
       "      <td>3.60</td>\n",
       "      <td>2.67</td>\n",
       "      <td>4.33</td>\n",
       "    </tr>\n",
       "    <tr>\n",
       "      <th>1</th>\n",
       "      <td>0</td>\n",
       "      <td>4.33</td>\n",
       "      <td>5.00</td>\n",
       "      <td>3.00</td>\n",
       "      <td>4.00</td>\n",
       "      <td>3.33</td>\n",
       "      <td>3.67</td>\n",
       "      <td>4.33</td>\n",
       "      <td>4.00</td>\n",
       "      <td>2.00</td>\n",
       "      <td>...</td>\n",
       "      <td>3.08</td>\n",
       "      <td>3.11</td>\n",
       "      <td>2.75</td>\n",
       "      <td>4.17</td>\n",
       "      <td>3.42</td>\n",
       "      <td>3.92</td>\n",
       "      <td>3.75</td>\n",
       "      <td>3.75</td>\n",
       "      <td>3.53</td>\n",
       "      <td>3.73</td>\n",
       "    </tr>\n",
       "    <tr>\n",
       "      <th>2</th>\n",
       "      <td>1</td>\n",
       "      <td>4.67</td>\n",
       "      <td>4.33</td>\n",
       "      <td>4.33</td>\n",
       "      <td>4.33</td>\n",
       "      <td>3.33</td>\n",
       "      <td>4.33</td>\n",
       "      <td>4.33</td>\n",
       "      <td>4.00</td>\n",
       "      <td>2.33</td>\n",
       "      <td>...</td>\n",
       "      <td>2.56</td>\n",
       "      <td>3.00</td>\n",
       "      <td>2.44</td>\n",
       "      <td>4.00</td>\n",
       "      <td>3.22</td>\n",
       "      <td>3.78</td>\n",
       "      <td>3.67</td>\n",
       "      <td>3.67</td>\n",
       "      <td>3.54</td>\n",
       "      <td>3.73</td>\n",
       "    </tr>\n",
       "    <tr>\n",
       "      <th>3</th>\n",
       "      <td>0</td>\n",
       "      <td>2.67</td>\n",
       "      <td>3.67</td>\n",
       "      <td>2.67</td>\n",
       "      <td>2.00</td>\n",
       "      <td>3.00</td>\n",
       "      <td>2.33</td>\n",
       "      <td>4.00</td>\n",
       "      <td>3.67</td>\n",
       "      <td>2.67</td>\n",
       "      <td>...</td>\n",
       "      <td>2.33</td>\n",
       "      <td>3.00</td>\n",
       "      <td>2.33</td>\n",
       "      <td>3.83</td>\n",
       "      <td>2.83</td>\n",
       "      <td>3.50</td>\n",
       "      <td>3.50</td>\n",
       "      <td>3.33</td>\n",
       "      <td>3.56</td>\n",
       "      <td>3.73</td>\n",
       "    </tr>\n",
       "    <tr>\n",
       "      <th>4</th>\n",
       "      <td>0</td>\n",
       "      <td>2.67</td>\n",
       "      <td>2.33</td>\n",
       "      <td>3.00</td>\n",
       "      <td>2.00</td>\n",
       "      <td>2.67</td>\n",
       "      <td>2.33</td>\n",
       "      <td>3.33</td>\n",
       "      <td>3.00</td>\n",
       "      <td>2.67</td>\n",
       "      <td>...</td>\n",
       "      <td>2.00</td>\n",
       "      <td>2.00</td>\n",
       "      <td>2.67</td>\n",
       "      <td>3.33</td>\n",
       "      <td>3.00</td>\n",
       "      <td>4.00</td>\n",
       "      <td>3.00</td>\n",
       "      <td>2.33</td>\n",
       "      <td>3.59</td>\n",
       "      <td>3.75</td>\n",
       "    </tr>\n",
       "  </tbody>\n",
       "</table>\n",
       "<p>5 rows × 21 columns</p>\n",
       "</div>"
      ],
      "text/plain": [
       "   Acedemics  Communication  Conflict_Management  Critical_Thinking  \\\n",
       "0          1           4.00                 2.67               4.33   \n",
       "1          0           4.33                 5.00               3.00   \n",
       "2          1           4.67                 4.33               4.33   \n",
       "3          0           2.67                 3.67               2.67   \n",
       "4          0           2.67                 2.33               3.00   \n",
       "\n",
       "   Decision_Making  Emotional_Intelligence  Leadership  Self_Confidence  \\\n",
       "0             4.33                    5.00        3.33             4.33   \n",
       "1             4.00                    3.33        3.67             4.33   \n",
       "2             4.33                    3.33        4.33             4.33   \n",
       "3             2.00                    3.00        2.33             4.00   \n",
       "4             2.00                    2.67        2.33             3.33   \n",
       "\n",
       "   Teamwork  Time_Management  ...  Belief_hv  Non_Violence_hv  \\\n",
       "0      4.67             5.00  ...       3.27             3.17   \n",
       "1      4.00             2.00  ...       3.08             3.11   \n",
       "2      4.00             2.33  ...       2.56             3.00   \n",
       "3      3.67             2.67  ...       2.33             3.00   \n",
       "4      3.00             2.67  ...       2.00             2.00   \n",
       "\n",
       "   Self_Discipline_hv  Kindness_hv  Integrity_hv  Health_And_Energy_hv  \\\n",
       "0                3.20         3.93          3.60                  3.87   \n",
       "1                2.75         4.17          3.42                  3.92   \n",
       "2                2.44         4.00          3.22                  3.78   \n",
       "3                2.33         3.83          2.83                  3.50   \n",
       "4                2.67         3.33          3.00                  4.00   \n",
       "\n",
       "   Gratitude_And_Appreciation_hv  Happiness  Friend_Friendship_hv  Peave_hv  \n",
       "0                           3.73       3.60                  2.67      4.33  \n",
       "1                           3.75       3.75                  3.53      3.73  \n",
       "2                           3.67       3.67                  3.54      3.73  \n",
       "3                           3.50       3.33                  3.56      3.73  \n",
       "4                           3.00       2.33                  3.59      3.75  \n",
       "\n",
       "[5 rows x 21 columns]"
      ]
     },
     "execution_count": 3,
     "metadata": {},
     "output_type": "execute_result"
    }
   ],
   "source": [
    "cell_df.head()"
   ]
  },
  {
   "cell_type": "code",
   "execution_count": 4,
   "id": "33722e72-402a-47e3-8ff3-c94269d9c2a2",
   "metadata": {},
   "outputs": [
    {
     "data": {
      "text/plain": [
       "pandas.core.frame.DataFrame"
      ]
     },
     "execution_count": 4,
     "metadata": {},
     "output_type": "execute_result"
    }
   ],
   "source": [
    "type(cell_df)"
   ]
  },
  {
   "cell_type": "code",
   "execution_count": 5,
   "id": "96c2ecb2-bb33-4711-b6e2-8831c8ad4dd0",
   "metadata": {},
   "outputs": [
    {
     "data": {
      "text/plain": [
       "(19, 21)"
      ]
     },
     "execution_count": 5,
     "metadata": {},
     "output_type": "execute_result"
    }
   ],
   "source": [
    "cell_df.shape\n"
   ]
  },
  {
   "cell_type": "code",
   "execution_count": 6,
   "id": "df73b5a1-5a1c-4d74-9837-183722b65f69",
   "metadata": {},
   "outputs": [
    {
     "data": {
      "text/plain": [
       "399"
      ]
     },
     "execution_count": 6,
     "metadata": {},
     "output_type": "execute_result"
    }
   ],
   "source": [
    "cell_df.size\n"
   ]
  },
  {
   "cell_type": "code",
   "execution_count": 7,
   "id": "8f6766f3-7113-46cc-af4e-fe4a521e7d12",
   "metadata": {},
   "outputs": [
    {
     "data": {
      "text/plain": [
       "Acedemics                        19\n",
       "Communication                    19\n",
       "Conflict_Management              19\n",
       "Critical_Thinking                19\n",
       "Decision_Making                  19\n",
       "Emotional_Intelligence           19\n",
       "Leadership                       19\n",
       "Self_Confidence                  19\n",
       "Teamwork                         19\n",
       "Time_Management                  19\n",
       "Positive_Attitude                19\n",
       "Belief_hv                        19\n",
       "Non_Violence_hv                  19\n",
       "Self_Discipline_hv               19\n",
       "Kindness_hv                      19\n",
       "Integrity_hv                     19\n",
       "Health_And_Energy_hv             19\n",
       "Gratitude_And_Appreciation_hv    19\n",
       "Happiness                        19\n",
       "Friend_Friendship_hv             19\n",
       "Peave_hv                         19\n",
       "dtype: int64"
      ]
     },
     "execution_count": 7,
     "metadata": {},
     "output_type": "execute_result"
    }
   ],
   "source": [
    "cell_df.count()"
   ]
  },
  {
   "cell_type": "code",
   "execution_count": 8,
   "id": "2f7df516-2c74-4267-b7f7-72c34f728824",
   "metadata": {},
   "outputs": [
    {
     "data": {
      "text/plain": [
       "Acedemics                        0\n",
       "Communication                    0\n",
       "Conflict_Management              0\n",
       "Critical_Thinking                0\n",
       "Decision_Making                  0\n",
       "Emotional_Intelligence           0\n",
       "Leadership                       0\n",
       "Self_Confidence                  0\n",
       "Teamwork                         0\n",
       "Time_Management                  0\n",
       "Positive_Attitude                0\n",
       "Belief_hv                        0\n",
       "Non_Violence_hv                  0\n",
       "Self_Discipline_hv               0\n",
       "Kindness_hv                      0\n",
       "Integrity_hv                     0\n",
       "Health_And_Energy_hv             0\n",
       "Gratitude_And_Appreciation_hv    0\n",
       "Happiness                        0\n",
       "Friend_Friendship_hv             0\n",
       "Peave_hv                         0\n",
       "dtype: int64"
      ]
     },
     "execution_count": 8,
     "metadata": {},
     "output_type": "execute_result"
    }
   ],
   "source": [
    "cell_df.isna().sum()"
   ]
  },
  {
   "cell_type": "code",
   "execution_count": 9,
   "id": "ac3d8cd1-f784-4e85-b0ef-01f5b601b287",
   "metadata": {
    "scrolled": true
   },
   "outputs": [
    {
     "data": {
      "text/plain": [
       "1    11\n",
       "0     8\n",
       "Name: Acedemics, dtype: int64"
      ]
     },
     "execution_count": 9,
     "metadata": {},
     "output_type": "execute_result"
    }
   ],
   "source": [
    "#get a count of number of malagant (M) or benign (B) cells\n",
    "cell_df['Acedemics'].value_counts()\n"
   ]
  },
  {
   "cell_type": "code",
   "execution_count": 10,
   "id": "2d95de87-992d-429a-a312-cc63b622639a",
   "metadata": {
    "scrolled": true
   },
   "outputs": [
    {
     "name": "stderr",
     "output_type": "stream",
     "text": [
      "C:\\Users\\soura\\anaconda3\\lib\\site-packages\\seaborn\\_decorators.py:36: FutureWarning: Pass the following variable as a keyword arg: x. From version 0.12, the only valid positional argument will be `data`, and passing other arguments without an explicit keyword will result in an error or misinterpretation.\n",
      "  warnings.warn(\n"
     ]
    },
    {
     "data": {
      "text/plain": [
       "<AxesSubplot:xlabel='Acedemics', ylabel='count'>"
      ]
     },
     "execution_count": 10,
     "metadata": {},
     "output_type": "execute_result"
    },
    {
     "data": {
      "image/png": "[encoded data removed]",
      "text/plain": [
       "<Figure size 432x288 with 1 Axes>"
      ]
     },
     "metadata": {
      "needs_background": "light"
     },
     "output_type": "display_data"
    }
   ],
   "source": [
    "#visualize the count\n",
    "sns.countplot(cell_df['Acedemics'], label=\"count\", )"
   ]
  },
  {
   "cell_type": "code",
   "execution_count": 47,
   "id": "62d93a1f-7737-4908-ac0c-ae36232fca9e",
   "metadata": {},
   "outputs": [
    {
     "data": {
      "text/plain": [
       "(19, 21)"
      ]
     },
     "execution_count": 47,
     "metadata": {},
     "output_type": "execute_result"
    }
   ],
   "source": [
    "cell_df.dtypes\n",
    "cell_df.shape"
   ]
  },
  {
   "cell_type": "code",
   "execution_count": 48,
   "id": "20122b37-dbe2-4b87-91fc-be70b783c512",
   "metadata": {},
   "outputs": [
    {
     "data": {
      "text/plain": [
       "399"
      ]
     },
     "execution_count": 48,
     "metadata": {},
     "output_type": "execute_result"
    }
   ],
   "source": [
    "#encode the categorical data values\n",
    "cell_df.size"
   ]
  },
  {
   "cell_type": "code",
   "execution_count": 49,
   "id": "cba72a8b-a091-4af2-aba9-d020a4e19fe4",
   "metadata": {},
   "outputs": [
    {
     "data": {
      "text/plain": [
       "(19, 21)"
      ]
     },
     "execution_count": 49,
     "metadata": {},
     "output_type": "execute_result"
    }
   ],
   "source": [
    "cell_df.shape\n"
   ]
  },
  {
   "cell_type": "code",
   "execution_count": 50,
   "id": "28b83822-9e15-423d-be2d-8072fd8d8404",
   "metadata": {},
   "outputs": [
    {
     "data": {
      "text/plain": [
       "Acedemics                          int64\n",
       "Communication                    float64\n",
       "Conflict_Management              float64\n",
       "Critical_Thinking                float64\n",
       "Decision_Making                  float64\n",
       "Emotional_Intelligence           float64\n",
       "Leadership                       float64\n",
       "Self_Confidence                  float64\n",
       "Teamwork                         float64\n",
       "Time_Management                  float64\n",
       "Positive_Attitude                float64\n",
       "Belief_hv                        float64\n",
       "Non_Violence_hv                  float64\n",
       "Self_Discipline_hv               float64\n",
       "Kindness_hv                      float64\n",
       "Integrity_hv                     float64\n",
       "Health_And_Energy_hv             float64\n",
       "Gratitude_And_Appreciation_hv    float64\n",
       "Happiness                        float64\n",
       "Friend_Friendship_hv             float64\n",
       "Peave_hv                         float64\n",
       "dtype: object"
      ]
     },
     "execution_count": 50,
     "metadata": {},
     "output_type": "execute_result"
    }
   ],
   "source": [
    "cell_df.dtypes"
   ]
  },
  {
   "cell_type": "code",
   "execution_count": 51,
   "id": "c98d5df4-970b-4efd-bd15-fe43f6761805",
   "metadata": {},
   "outputs": [
    {
     "data": {
      "text/html": [
       "<div>\n",
       "<style scoped>\n",
       "    .dataframe tbody tr th:only-of-type {\n",
       "        vertical-align: middle;\n",
       "    }\n",
       "\n",
       "    .dataframe tbody tr th {\n",
       "        vertical-align: top;\n",
       "    }\n",
       "\n",
       "    .dataframe thead th {\n",
       "        text-align: right;\n",
       "    }\n",
       "</style>\n",
       "<table border=\"1\" class=\"dataframe\">\n",
       "  <thead>\n",
       "    <tr style=\"text-align: right;\">\n",
       "      <th></th>\n",
       "      <th>Acedemics</th>\n",
       "      <th>Communication</th>\n",
       "      <th>Conflict_Management</th>\n",
       "      <th>Critical_Thinking</th>\n",
       "      <th>Decision_Making</th>\n",
       "      <th>Emotional_Intelligence</th>\n",
       "      <th>Leadership</th>\n",
       "      <th>Self_Confidence</th>\n",
       "      <th>Teamwork</th>\n",
       "      <th>Time_Management</th>\n",
       "      <th>...</th>\n",
       "      <th>Belief_hv</th>\n",
       "      <th>Non_Violence_hv</th>\n",
       "      <th>Self_Discipline_hv</th>\n",
       "      <th>Kindness_hv</th>\n",
       "      <th>Integrity_hv</th>\n",
       "      <th>Health_And_Energy_hv</th>\n",
       "      <th>Gratitude_And_Appreciation_hv</th>\n",
       "      <th>Happiness</th>\n",
       "      <th>Friend_Friendship_hv</th>\n",
       "      <th>Peave_hv</th>\n",
       "    </tr>\n",
       "  </thead>\n",
       "  <tbody>\n",
       "    <tr>\n",
       "      <th>0</th>\n",
       "      <td>1</td>\n",
       "      <td>4.00</td>\n",
       "      <td>2.67</td>\n",
       "      <td>4.33</td>\n",
       "      <td>4.33</td>\n",
       "      <td>5.00</td>\n",
       "      <td>3.33</td>\n",
       "      <td>4.33</td>\n",
       "      <td>4.67</td>\n",
       "      <td>5.00</td>\n",
       "      <td>...</td>\n",
       "      <td>3.27</td>\n",
       "      <td>3.17</td>\n",
       "      <td>3.20</td>\n",
       "      <td>3.93</td>\n",
       "      <td>3.60</td>\n",
       "      <td>3.87</td>\n",
       "      <td>3.73</td>\n",
       "      <td>3.60</td>\n",
       "      <td>2.67</td>\n",
       "      <td>4.33</td>\n",
       "    </tr>\n",
       "    <tr>\n",
       "      <th>1</th>\n",
       "      <td>0</td>\n",
       "      <td>4.33</td>\n",
       "      <td>5.00</td>\n",
       "      <td>3.00</td>\n",
       "      <td>4.00</td>\n",
       "      <td>3.33</td>\n",
       "      <td>3.67</td>\n",
       "      <td>4.33</td>\n",
       "      <td>4.00</td>\n",
       "      <td>2.00</td>\n",
       "      <td>...</td>\n",
       "      <td>3.08</td>\n",
       "      <td>3.11</td>\n",
       "      <td>2.75</td>\n",
       "      <td>4.17</td>\n",
       "      <td>3.42</td>\n",
       "      <td>3.92</td>\n",
       "      <td>3.75</td>\n",
       "      <td>3.75</td>\n",
       "      <td>3.53</td>\n",
       "      <td>3.73</td>\n",
       "    </tr>\n",
       "    <tr>\n",
       "      <th>2</th>\n",
       "      <td>1</td>\n",
       "      <td>4.67</td>\n",
       "      <td>4.33</td>\n",
       "      <td>4.33</td>\n",
       "      <td>4.33</td>\n",
       "      <td>3.33</td>\n",
       "      <td>4.33</td>\n",
       "      <td>4.33</td>\n",
       "      <td>4.00</td>\n",
       "      <td>2.33</td>\n",
       "      <td>...</td>\n",
       "      <td>2.56</td>\n",
       "      <td>3.00</td>\n",
       "      <td>2.44</td>\n",
       "      <td>4.00</td>\n",
       "      <td>3.22</td>\n",
       "      <td>3.78</td>\n",
       "      <td>3.67</td>\n",
       "      <td>3.67</td>\n",
       "      <td>3.54</td>\n",
       "      <td>3.73</td>\n",
       "    </tr>\n",
       "    <tr>\n",
       "      <th>3</th>\n",
       "      <td>0</td>\n",
       "      <td>2.67</td>\n",
       "      <td>3.67</td>\n",
       "      <td>2.67</td>\n",
       "      <td>2.00</td>\n",
       "      <td>3.00</td>\n",
       "      <td>2.33</td>\n",
       "      <td>4.00</td>\n",
       "      <td>3.67</td>\n",
       "      <td>2.67</td>\n",
       "      <td>...</td>\n",
       "      <td>2.33</td>\n",
       "      <td>3.00</td>\n",
       "      <td>2.33</td>\n",
       "      <td>3.83</td>\n",
       "      <td>2.83</td>\n",
       "      <td>3.50</td>\n",
       "      <td>3.50</td>\n",
       "      <td>3.33</td>\n",
       "      <td>3.56</td>\n",
       "      <td>3.73</td>\n",
       "    </tr>\n",
       "    <tr>\n",
       "      <th>4</th>\n",
       "      <td>0</td>\n",
       "      <td>2.67</td>\n",
       "      <td>2.33</td>\n",
       "      <td>3.00</td>\n",
       "      <td>2.00</td>\n",
       "      <td>2.67</td>\n",
       "      <td>2.33</td>\n",
       "      <td>3.33</td>\n",
       "      <td>3.00</td>\n",
       "      <td>2.67</td>\n",
       "      <td>...</td>\n",
       "      <td>2.00</td>\n",
       "      <td>2.00</td>\n",
       "      <td>2.67</td>\n",
       "      <td>3.33</td>\n",
       "      <td>3.00</td>\n",
       "      <td>4.00</td>\n",
       "      <td>3.00</td>\n",
       "      <td>2.33</td>\n",
       "      <td>3.59</td>\n",
       "      <td>3.75</td>\n",
       "    </tr>\n",
       "  </tbody>\n",
       "</table>\n",
       "<p>5 rows × 21 columns</p>\n",
       "</div>"
      ],
      "text/plain": [
       "   Acedemics  Communication  Conflict_Management  Critical_Thinking  \\\n",
       "0          1           4.00                 2.67               4.33   \n",
       "1          0           4.33                 5.00               3.00   \n",
       "2          1           4.67                 4.33               4.33   \n",
       "3          0           2.67                 3.67               2.67   \n",
       "4          0           2.67                 2.33               3.00   \n",
       "\n",
       "   Decision_Making  Emotional_Intelligence  Leadership  Self_Confidence  \\\n",
       "0             4.33                    5.00        3.33             4.33   \n",
       "1             4.00                    3.33        3.67             4.33   \n",
       "2             4.33                    3.33        4.33             4.33   \n",
       "3             2.00                    3.00        2.33             4.00   \n",
       "4             2.00                    2.67        2.33             3.33   \n",
       "\n",
       "   Teamwork  Time_Management  ...  Belief_hv  Non_Violence_hv  \\\n",
       "0      4.67             5.00  ...       3.27             3.17   \n",
       "1      4.00             2.00  ...       3.08             3.11   \n",
       "2      4.00             2.33  ...       2.56             3.00   \n",
       "3      3.67             2.67  ...       2.33             3.00   \n",
       "4      3.00             2.67  ...       2.00             2.00   \n",
       "\n",
       "   Self_Discipline_hv  Kindness_hv  Integrity_hv  Health_And_Energy_hv  \\\n",
       "0                3.20         3.93          3.60                  3.87   \n",
       "1                2.75         4.17          3.42                  3.92   \n",
       "2                2.44         4.00          3.22                  3.78   \n",
       "3                2.33         3.83          2.83                  3.50   \n",
       "4                2.67         3.33          3.00                  4.00   \n",
       "\n",
       "   Gratitude_And_Appreciation_hv  Happiness  Friend_Friendship_hv  Peave_hv  \n",
       "0                           3.73       3.60                  2.67      4.33  \n",
       "1                           3.75       3.75                  3.53      3.73  \n",
       "2                           3.67       3.67                  3.54      3.73  \n",
       "3                           3.50       3.33                  3.56      3.73  \n",
       "4                           3.00       2.33                  3.59      3.75  \n",
       "\n",
       "[5 rows x 21 columns]"
      ]
     },
     "execution_count": 51,
     "metadata": {},
     "output_type": "execute_result"
    }
   ],
   "source": [
    "cell_df.head(5)"
   ]
  },
  {
   "cell_type": "code",
   "execution_count": 52,
   "id": "869e3eba",
   "metadata": {},
   "outputs": [
    {
     "data": {
      "text/plain": [
       "0     1\n",
       "1     0\n",
       "2     1\n",
       "3     0\n",
       "4     0\n",
       "5     1\n",
       "6     1\n",
       "7     1\n",
       "8     1\n",
       "9     1\n",
       "10    1\n",
       "11    1\n",
       "12    1\n",
       "13    1\n",
       "14    0\n",
       "15    0\n",
       "16    0\n",
       "17    0\n",
       "18    0\n",
       "Name: Acedemics, dtype: int64"
      ]
     },
     "execution_count": 52,
     "metadata": {},
     "output_type": "execute_result"
    }
   ],
   "source": [
    "cell_df.iloc[:, 0]"
   ]
  },
  {
   "cell_type": "code",
   "execution_count": 53,
   "id": "4c8ed556-8706-4f94-b604-d403799ca155",
   "metadata": {},
   "outputs": [],
   "source": [
    "#encode the categorical data values\n",
    "from sklearn.preprocessing import LabelEncoder\n",
    "labelencoder_y = LabelEncoder()\n",
    "cell_df.iloc[:, 0] =  labelencoder_y.fit_transform(cell_df.iloc[:,0].values)"
   ]
  },
  {
   "cell_type": "code",
   "execution_count": 54,
   "id": "48dd9dda-67a4-4f96-913a-b3cd0011974c",
   "metadata": {
    "scrolled": true
   },
   "outputs": [
    {
     "data": {
      "text/plain": [
       "<seaborn.axisgrid.PairGrid at 0x2b779fd8d90>"
      ]
     },
     "execution_count": 54,
     "metadata": {},
     "output_type": "execute_result"
    },
    {
     "data": {
      "image/png": "[encoded data removed]",
      "text/plain": [
       "<Figure size 782.125x720 with 20 Axes>"
      ]
     },
     "metadata": {
      "needs_background": "light"
     },
     "output_type": "display_data"
    }
   ],
   "source": [
    "#create a pair plot\n",
    "\n",
    "sns.pairplot(cell_df.iloc[0:,0:5], hue = \"Acedemics\",  palette='Dark2')"
   ]
  },
  {
   "cell_type": "code",
   "execution_count": 55,
   "id": "c8cbcb14-ec51-4054-9513-17e9ff687b3a",
   "metadata": {},
   "outputs": [
    {
     "data": {
      "text/html": [
       "<div>\n",
       "<style scoped>\n",
       "    .dataframe tbody tr th:only-of-type {\n",
       "        vertical-align: middle;\n",
       "    }\n",
       "\n",
       "    .dataframe tbody tr th {\n",
       "        vertical-align: top;\n",
       "    }\n",
       "\n",
       "    .dataframe thead th {\n",
       "        text-align: right;\n",
       "    }\n",
       "</style>\n",
       "<table border=\"1\" class=\"dataframe\">\n",
       "  <thead>\n",
       "    <tr style=\"text-align: right;\">\n",
       "      <th></th>\n",
       "      <th>Acedemics</th>\n",
       "      <th>Communication</th>\n",
       "      <th>Conflict_Management</th>\n",
       "      <th>Critical_Thinking</th>\n",
       "      <th>Decision_Making</th>\n",
       "      <th>Emotional_Intelligence</th>\n",
       "      <th>Leadership</th>\n",
       "      <th>Self_Confidence</th>\n",
       "      <th>Teamwork</th>\n",
       "      <th>Time_Management</th>\n",
       "      <th>...</th>\n",
       "      <th>Belief_hv</th>\n",
       "      <th>Non_Violence_hv</th>\n",
       "      <th>Self_Discipline_hv</th>\n",
       "      <th>Kindness_hv</th>\n",
       "      <th>Integrity_hv</th>\n",
       "      <th>Health_And_Energy_hv</th>\n",
       "      <th>Gratitude_And_Appreciation_hv</th>\n",
       "      <th>Happiness</th>\n",
       "      <th>Friend_Friendship_hv</th>\n",
       "      <th>Peave_hv</th>\n",
       "    </tr>\n",
       "  </thead>\n",
       "  <tbody>\n",
       "    <tr>\n",
       "      <th>0</th>\n",
       "      <td>1</td>\n",
       "      <td>4.00</td>\n",
       "      <td>2.67</td>\n",
       "      <td>4.33</td>\n",
       "      <td>4.33</td>\n",
       "      <td>5.00</td>\n",
       "      <td>3.33</td>\n",
       "      <td>4.33</td>\n",
       "      <td>4.67</td>\n",
       "      <td>5.00</td>\n",
       "      <td>...</td>\n",
       "      <td>3.27</td>\n",
       "      <td>3.17</td>\n",
       "      <td>3.20</td>\n",
       "      <td>3.93</td>\n",
       "      <td>3.60</td>\n",
       "      <td>3.87</td>\n",
       "      <td>3.73</td>\n",
       "      <td>3.60</td>\n",
       "      <td>2.67</td>\n",
       "      <td>4.33</td>\n",
       "    </tr>\n",
       "    <tr>\n",
       "      <th>1</th>\n",
       "      <td>0</td>\n",
       "      <td>4.33</td>\n",
       "      <td>5.00</td>\n",
       "      <td>3.00</td>\n",
       "      <td>4.00</td>\n",
       "      <td>3.33</td>\n",
       "      <td>3.67</td>\n",
       "      <td>4.33</td>\n",
       "      <td>4.00</td>\n",
       "      <td>2.00</td>\n",
       "      <td>...</td>\n",
       "      <td>3.08</td>\n",
       "      <td>3.11</td>\n",
       "      <td>2.75</td>\n",
       "      <td>4.17</td>\n",
       "      <td>3.42</td>\n",
       "      <td>3.92</td>\n",
       "      <td>3.75</td>\n",
       "      <td>3.75</td>\n",
       "      <td>3.53</td>\n",
       "      <td>3.73</td>\n",
       "    </tr>\n",
       "    <tr>\n",
       "      <th>2</th>\n",
       "      <td>1</td>\n",
       "      <td>4.67</td>\n",
       "      <td>4.33</td>\n",
       "      <td>4.33</td>\n",
       "      <td>4.33</td>\n",
       "      <td>3.33</td>\n",
       "      <td>4.33</td>\n",
       "      <td>4.33</td>\n",
       "      <td>4.00</td>\n",
       "      <td>2.33</td>\n",
       "      <td>...</td>\n",
       "      <td>2.56</td>\n",
       "      <td>3.00</td>\n",
       "      <td>2.44</td>\n",
       "      <td>4.00</td>\n",
       "      <td>3.22</td>\n",
       "      <td>3.78</td>\n",
       "      <td>3.67</td>\n",
       "      <td>3.67</td>\n",
       "      <td>3.54</td>\n",
       "      <td>3.73</td>\n",
       "    </tr>\n",
       "    <tr>\n",
       "      <th>3</th>\n",
       "      <td>0</td>\n",
       "      <td>2.67</td>\n",
       "      <td>3.67</td>\n",
       "      <td>2.67</td>\n",
       "      <td>2.00</td>\n",
       "      <td>3.00</td>\n",
       "      <td>2.33</td>\n",
       "      <td>4.00</td>\n",
       "      <td>3.67</td>\n",
       "      <td>2.67</td>\n",
       "      <td>...</td>\n",
       "      <td>2.33</td>\n",
       "      <td>3.00</td>\n",
       "      <td>2.33</td>\n",
       "      <td>3.83</td>\n",
       "      <td>2.83</td>\n",
       "      <td>3.50</td>\n",
       "      <td>3.50</td>\n",
       "      <td>3.33</td>\n",
       "      <td>3.56</td>\n",
       "      <td>3.73</td>\n",
       "    </tr>\n",
       "    <tr>\n",
       "      <th>4</th>\n",
       "      <td>0</td>\n",
       "      <td>2.67</td>\n",
       "      <td>2.33</td>\n",
       "      <td>3.00</td>\n",
       "      <td>2.00</td>\n",
       "      <td>2.67</td>\n",
       "      <td>2.33</td>\n",
       "      <td>3.33</td>\n",
       "      <td>3.00</td>\n",
       "      <td>2.67</td>\n",
       "      <td>...</td>\n",
       "      <td>2.00</td>\n",
       "      <td>2.00</td>\n",
       "      <td>2.67</td>\n",
       "      <td>3.33</td>\n",
       "      <td>3.00</td>\n",
       "      <td>4.00</td>\n",
       "      <td>3.00</td>\n",
       "      <td>2.33</td>\n",
       "      <td>3.59</td>\n",
       "      <td>3.75</td>\n",
       "    </tr>\n",
       "  </tbody>\n",
       "</table>\n",
       "<p>5 rows × 21 columns</p>\n",
       "</div>"
      ],
      "text/plain": [
       "   Acedemics  Communication  Conflict_Management  Critical_Thinking  \\\n",
       "0          1           4.00                 2.67               4.33   \n",
       "1          0           4.33                 5.00               3.00   \n",
       "2          1           4.67                 4.33               4.33   \n",
       "3          0           2.67                 3.67               2.67   \n",
       "4          0           2.67                 2.33               3.00   \n",
       "\n",
       "   Decision_Making  Emotional_Intelligence  Leadership  Self_Confidence  \\\n",
       "0             4.33                    5.00        3.33             4.33   \n",
       "1             4.00                    3.33        3.67             4.33   \n",
       "2             4.33                    3.33        4.33             4.33   \n",
       "3             2.00                    3.00        2.33             4.00   \n",
       "4             2.00                    2.67        2.33             3.33   \n",
       "\n",
       "   Teamwork  Time_Management  ...  Belief_hv  Non_Violence_hv  \\\n",
       "0      4.67             5.00  ...       3.27             3.17   \n",
       "1      4.00             2.00  ...       3.08             3.11   \n",
       "2      4.00             2.33  ...       2.56             3.00   \n",
       "3      3.67             2.67  ...       2.33             3.00   \n",
       "4      3.00             2.67  ...       2.00             2.00   \n",
       "\n",
       "   Self_Discipline_hv  Kindness_hv  Integrity_hv  Health_And_Energy_hv  \\\n",
       "0                3.20         3.93          3.60                  3.87   \n",
       "1                2.75         4.17          3.42                  3.92   \n",
       "2                2.44         4.00          3.22                  3.78   \n",
       "3                2.33         3.83          2.83                  3.50   \n",
       "4                2.67         3.33          3.00                  4.00   \n",
       "\n",
       "   Gratitude_And_Appreciation_hv  Happiness  Friend_Friendship_hv  Peave_hv  \n",
       "0                           3.73       3.60                  2.67      4.33  \n",
       "1                           3.75       3.75                  3.53      3.73  \n",
       "2                           3.67       3.67                  3.54      3.73  \n",
       "3                           3.50       3.33                  3.56      3.73  \n",
       "4                           3.00       2.33                  3.59      3.75  \n",
       "\n",
       "[5 rows x 21 columns]"
      ]
     },
     "execution_count": 55,
     "metadata": {},
     "output_type": "execute_result"
    }
   ],
   "source": [
    "#print the first  rows of the new data\n",
    "cell_df.head(5)"
   ]
  },
  {
   "cell_type": "code",
   "execution_count": 56,
   "id": "cc87f242-08d7-4452-9070-87085231b705",
   "metadata": {},
   "outputs": [
    {
     "data": {
      "text/html": [
       "<div>\n",
       "<style scoped>\n",
       "    .dataframe tbody tr th:only-of-type {\n",
       "        vertical-align: middle;\n",
       "    }\n",
       "\n",
       "    .dataframe tbody tr th {\n",
       "        vertical-align: top;\n",
       "    }\n",
       "\n",
       "    .dataframe thead th {\n",
       "        text-align: right;\n",
       "    }\n",
       "</style>\n",
       "<table border=\"1\" class=\"dataframe\">\n",
       "  <thead>\n",
       "    <tr style=\"text-align: right;\">\n",
       "      <th></th>\n",
       "      <th>Communication</th>\n",
       "      <th>Conflict_Management</th>\n",
       "      <th>Critical_Thinking</th>\n",
       "      <th>Decision_Making</th>\n",
       "      <th>Emotional_Intelligence</th>\n",
       "      <th>Leadership</th>\n",
       "      <th>Self_Confidence</th>\n",
       "      <th>Teamwork</th>\n",
       "      <th>Time_Management</th>\n",
       "      <th>Positive_Attitude</th>\n",
       "      <th>Belief_hv</th>\n",
       "    </tr>\n",
       "  </thead>\n",
       "  <tbody>\n",
       "    <tr>\n",
       "      <th>Communication</th>\n",
       "      <td>1.000000</td>\n",
       "      <td>0.598364</td>\n",
       "      <td>0.725316</td>\n",
       "      <td>0.716407</td>\n",
       "      <td>0.540070</td>\n",
       "      <td>0.760620</td>\n",
       "      <td>0.453978</td>\n",
       "      <td>0.443076</td>\n",
       "      <td>0.208367</td>\n",
       "      <td>0.243208</td>\n",
       "      <td>0.098847</td>\n",
       "    </tr>\n",
       "    <tr>\n",
       "      <th>Conflict_Management</th>\n",
       "      <td>0.598364</td>\n",
       "      <td>1.000000</td>\n",
       "      <td>0.469184</td>\n",
       "      <td>0.463988</td>\n",
       "      <td>0.330141</td>\n",
       "      <td>0.658682</td>\n",
       "      <td>0.421145</td>\n",
       "      <td>0.356960</td>\n",
       "      <td>0.018299</td>\n",
       "      <td>0.454600</td>\n",
       "      <td>0.137166</td>\n",
       "    </tr>\n",
       "    <tr>\n",
       "      <th>Critical_Thinking</th>\n",
       "      <td>0.725316</td>\n",
       "      <td>0.469184</td>\n",
       "      <td>1.000000</td>\n",
       "      <td>0.811366</td>\n",
       "      <td>0.625201</td>\n",
       "      <td>0.715315</td>\n",
       "      <td>0.356966</td>\n",
       "      <td>0.634430</td>\n",
       "      <td>0.401695</td>\n",
       "      <td>0.266924</td>\n",
       "      <td>0.133282</td>\n",
       "    </tr>\n",
       "    <tr>\n",
       "      <th>Decision_Making</th>\n",
       "      <td>0.716407</td>\n",
       "      <td>0.463988</td>\n",
       "      <td>0.811366</td>\n",
       "      <td>1.000000</td>\n",
       "      <td>0.459762</td>\n",
       "      <td>0.557239</td>\n",
       "      <td>0.282400</td>\n",
       "      <td>0.518642</td>\n",
       "      <td>0.157305</td>\n",
       "      <td>0.400832</td>\n",
       "      <td>0.342933</td>\n",
       "    </tr>\n",
       "    <tr>\n",
       "      <th>Emotional_Intelligence</th>\n",
       "      <td>0.540070</td>\n",
       "      <td>0.330141</td>\n",
       "      <td>0.625201</td>\n",
       "      <td>0.459762</td>\n",
       "      <td>1.000000</td>\n",
       "      <td>0.646575</td>\n",
       "      <td>0.759771</td>\n",
       "      <td>0.422105</td>\n",
       "      <td>0.400722</td>\n",
       "      <td>0.451782</td>\n",
       "      <td>0.175196</td>\n",
       "    </tr>\n",
       "    <tr>\n",
       "      <th>Leadership</th>\n",
       "      <td>0.760620</td>\n",
       "      <td>0.658682</td>\n",
       "      <td>0.715315</td>\n",
       "      <td>0.557239</td>\n",
       "      <td>0.646575</td>\n",
       "      <td>1.000000</td>\n",
       "      <td>0.428312</td>\n",
       "      <td>0.599939</td>\n",
       "      <td>0.178106</td>\n",
       "      <td>0.341997</td>\n",
       "      <td>0.173970</td>\n",
       "    </tr>\n",
       "    <tr>\n",
       "      <th>Self_Confidence</th>\n",
       "      <td>0.453978</td>\n",
       "      <td>0.421145</td>\n",
       "      <td>0.356966</td>\n",
       "      <td>0.282400</td>\n",
       "      <td>0.759771</td>\n",
       "      <td>0.428312</td>\n",
       "      <td>1.000000</td>\n",
       "      <td>0.027743</td>\n",
       "      <td>0.013202</td>\n",
       "      <td>0.459470</td>\n",
       "      <td>-0.127772</td>\n",
       "    </tr>\n",
       "    <tr>\n",
       "      <th>Teamwork</th>\n",
       "      <td>0.443076</td>\n",
       "      <td>0.356960</td>\n",
       "      <td>0.634430</td>\n",
       "      <td>0.518642</td>\n",
       "      <td>0.422105</td>\n",
       "      <td>0.599939</td>\n",
       "      <td>0.027743</td>\n",
       "      <td>1.000000</td>\n",
       "      <td>0.484653</td>\n",
       "      <td>0.106418</td>\n",
       "      <td>0.256463</td>\n",
       "    </tr>\n",
       "    <tr>\n",
       "      <th>Time_Management</th>\n",
       "      <td>0.208367</td>\n",
       "      <td>0.018299</td>\n",
       "      <td>0.401695</td>\n",
       "      <td>0.157305</td>\n",
       "      <td>0.400722</td>\n",
       "      <td>0.178106</td>\n",
       "      <td>0.013202</td>\n",
       "      <td>0.484653</td>\n",
       "      <td>1.000000</td>\n",
       "      <td>0.124698</td>\n",
       "      <td>0.514718</td>\n",
       "    </tr>\n",
       "    <tr>\n",
       "      <th>Positive_Attitude</th>\n",
       "      <td>0.243208</td>\n",
       "      <td>0.454600</td>\n",
       "      <td>0.266924</td>\n",
       "      <td>0.400832</td>\n",
       "      <td>0.451782</td>\n",
       "      <td>0.341997</td>\n",
       "      <td>0.459470</td>\n",
       "      <td>0.106418</td>\n",
       "      <td>0.124698</td>\n",
       "      <td>1.000000</td>\n",
       "      <td>0.478730</td>\n",
       "    </tr>\n",
       "    <tr>\n",
       "      <th>Belief_hv</th>\n",
       "      <td>0.098847</td>\n",
       "      <td>0.137166</td>\n",
       "      <td>0.133282</td>\n",
       "      <td>0.342933</td>\n",
       "      <td>0.175196</td>\n",
       "      <td>0.173970</td>\n",
       "      <td>-0.127772</td>\n",
       "      <td>0.256463</td>\n",
       "      <td>0.514718</td>\n",
       "      <td>0.478730</td>\n",
       "      <td>1.000000</td>\n",
       "    </tr>\n",
       "  </tbody>\n",
       "</table>\n",
       "</div>"
      ],
      "text/plain": [
       "                        Communication  Conflict_Management  Critical_Thinking  \\\n",
       "Communication                1.000000             0.598364           0.725316   \n",
       "Conflict_Management          0.598364             1.000000           0.469184   \n",
       "Critical_Thinking            0.725316             0.469184           1.000000   \n",
       "Decision_Making              0.716407             0.463988           0.811366   \n",
       "Emotional_Intelligence       0.540070             0.330141           0.625201   \n",
       "Leadership                   0.760620             0.658682           0.715315   \n",
       "Self_Confidence              0.453978             0.421145           0.356966   \n",
       "Teamwork                     0.443076             0.356960           0.634430   \n",
       "Time_Management              0.208367             0.018299           0.401695   \n",
       "Positive_Attitude            0.243208             0.454600           0.266924   \n",
       "Belief_hv                    0.098847             0.137166           0.133282   \n",
       "\n",
       "                        Decision_Making  Emotional_Intelligence  Leadership  \\\n",
       "Communication                  0.716407                0.540070    0.760620   \n",
       "Conflict_Management            0.463988                0.330141    0.658682   \n",
       "Critical_Thinking              0.811366                0.625201    0.715315   \n",
       "Decision_Making                1.000000                0.459762    0.557239   \n",
       "Emotional_Intelligence         0.459762                1.000000    0.646575   \n",
       "Leadership                     0.557239                0.646575    1.000000   \n",
       "Self_Confidence                0.282400                0.759771    0.428312   \n",
       "Teamwork                       0.518642                0.422105    0.599939   \n",
       "Time_Management                0.157305                0.400722    0.178106   \n",
       "Positive_Attitude              0.400832                0.451782    0.341997   \n",
       "Belief_hv                      0.342933                0.175196    0.173970   \n",
       "\n",
       "                        Self_Confidence  Teamwork  Time_Management  \\\n",
       "Communication                  0.453978  0.443076         0.208367   \n",
       "Conflict_Management            0.421145  0.356960         0.018299   \n",
       "Critical_Thinking              0.356966  0.634430         0.401695   \n",
       "Decision_Making                0.282400  0.518642         0.157305   \n",
       "Emotional_Intelligence         0.759771  0.422105         0.400722   \n",
       "Leadership                     0.428312  0.599939         0.178106   \n",
       "Self_Confidence                1.000000  0.027743         0.013202   \n",
       "Teamwork                       0.027743  1.000000         0.484653   \n",
       "Time_Management                0.013202  0.484653         1.000000   \n",
       "Positive_Attitude              0.459470  0.106418         0.124698   \n",
       "Belief_hv                     -0.127772  0.256463         0.514718   \n",
       "\n",
       "                        Positive_Attitude  Belief_hv  \n",
       "Communication                    0.243208   0.098847  \n",
       "Conflict_Management              0.454600   0.137166  \n",
       "Critical_Thinking                0.266924   0.133282  \n",
       "Decision_Making                  0.400832   0.342933  \n",
       "Emotional_Intelligence           0.451782   0.175196  \n",
       "Leadership                       0.341997   0.173970  \n",
       "Self_Confidence                  0.459470  -0.127772  \n",
       "Teamwork                         0.106418   0.256463  \n",
       "Time_Management                  0.124698   0.514718  \n",
       "Positive_Attitude                1.000000   0.478730  \n",
       "Belief_hv                        0.478730   1.000000  "
      ]
     },
     "execution_count": 56,
     "metadata": {},
     "output_type": "execute_result"
    }
   ],
   "source": [
    "#get the correlation of the columns\n",
    "cell_df.iloc[:,1:12].corr()"
   ]
  },
  {
   "cell_type": "code",
   "execution_count": 57,
   "id": "4c410c6d-6bea-46bb-a3c9-8832f991dee3",
   "metadata": {},
   "outputs": [
    {
     "data": {
      "text/plain": [
       "<AxesSubplot:>"
      ]
     },
     "execution_count": 57,
     "metadata": {},
     "output_type": "execute_result"
    },
    {
     "data": {
      "image/png": "[encoded data removed]",
      "text/plain": [
       "<Figure size 720x720 with 2 Axes>"
      ]
     },
     "metadata": {
      "needs_background": "light"
     },
     "output_type": "display_data"
    }
   ],
   "source": [
    "#visualize the correlation\n",
    "plt.figure(figsize=(10,10))\n",
    "sns.heatmap(cell_df.iloc[:,1:12].corr(), annot=True, fmt='.0%')"
   ]
  },
  {
   "cell_type": "code",
   "execution_count": 58,
   "id": "4692ab66-2a54-4d42-8e0c-528b168358be",
   "metadata": {},
   "outputs": [],
   "source": [
    "#split the data set into independent (X) and dependent (Y) data sets\n",
    "X =  cell_df.iloc[:,1:21].values \n",
    "Y =  cell_df.iloc[:,0].values "
   ]
  },
  {
   "cell_type": "code",
   "execution_count": 59,
   "id": "cd163c12-640b-4623-acea-530c553e99a3",
   "metadata": {},
   "outputs": [],
   "source": [
    "#splil the data set into 75% training and 25% testing\n",
    "from sklearn.model_selection import train_test_split \n",
    "X_train, X_test, Y_train, Y_test = train_test_split(X,Y, test_size = 0.5, random_state = 0)"
   ]
  },
  {
   "cell_type": "code",
   "execution_count": 60,
   "id": "8dbcb929-89d9-43d4-b6ec-13b812516026",
   "metadata": {},
   "outputs": [],
   "source": [
    "#Scale the data (Feature Scaling)\n",
    "from sklearn.preprocessing import StandardScaler\n",
    "sc = StandardScaler()\n",
    "X_train = sc.fit_transform(X_train)\n",
    "X_test = sc.fit_transform(X_test)"
   ]
  },
  {
   "cell_type": "code",
   "execution_count": 61,
   "id": "6226e72f-33da-4592-b028-4d11581b1b03",
   "metadata": {},
   "outputs": [],
   "source": [
    "#Create a function for  the models\n",
    "def models(X_train, Y_train):\n",
    "    \n",
    "    #Logistic Regression\n",
    "    from sklearn.linear_model import LogisticRegression\n",
    "    log = LogisticRegression(random_state=0)\n",
    "    log.fit(X_train, Y_train)\n",
    "    \n",
    "    #Decision Tree\n",
    "    from sklearn.tree import DecisionTreeClassifier\n",
    "    tree = DecisionTreeClassifier(criterion = 'entropy', random_state =0)\n",
    "    tree.fit(X_train, Y_train)\n",
    "    \n",
    "    #Random Forest Classifier\n",
    "    from sklearn.ensemble import RandomForestClassifier\n",
    "    forest = RandomForestClassifier(n_estimators = 10, criterion = 'entropy', random_state = 0)\n",
    "    forest.fit(X_train, Y_train)\n",
    "    \n",
    "    #KNN \n",
    "    from sklearn.neighbors import KNeighborsClassifier\n",
    "    knn = KNeighborsClassifier(n_neighbors=1)\n",
    "    knn.fit(X_train, Y_train)\n",
    "    \n",
    "    from sklearn import svm\n",
    "    classifier = svm.SVC(kernel='linear', gamma='auto', C=2)\n",
    "    classifier.fit(X_train,Y_train)\n",
    "    \n",
    "    #print the models accuracy on the training data\n",
    "    print('[0]Logistic Regression training Accuracy:',log.score(X_train, Y_train))\n",
    "    print('[1]Decision Tree training Accuracy:',tree.score(X_train, Y_train))\n",
    "    print('[2]Random Forest Classifier training Accuracy:',forest.score(X_train, Y_train))\n",
    "    print('[3]KNN training Accuracy:',knn.score(X_train, Y_train))\n",
    "    print('[4]SVM training Accuracy:',classifier.score(X_train, Y_train))\n",
    "    \n",
    "\n",
    "    return log,  tree, forest, knn, classifier\n",
    "    \n",
    "    \n",
    "    "
   ]
  },
  {
   "cell_type": "code",
   "execution_count": 62,
   "id": "4f95f23d-adc4-422d-815b-41198082bd79",
   "metadata": {
    "scrolled": true
   },
   "outputs": [
    {
     "name": "stdout",
     "output_type": "stream",
     "text": [
      "[0]Logistic Regression training Accuracy: 1.0\n",
      "[1]Decision Tree training Accuracy: 1.0\n",
      "[2]Random Forest Classifier training Accuracy: 1.0\n",
      "[3]KNN training Accuracy: 1.0\n",
      "[4]SVM training Accuracy: 1.0\n"
     ]
    }
   ],
   "source": [
    "#getting all the models\n",
    "model = models(X_train, Y_train)"
   ]
  },
  {
   "cell_type": "code",
   "execution_count": 63,
   "id": "d9615579-b720-480f-a64f-1c6068f5c701",
   "metadata": {
    "scrolled": true
   },
   "outputs": [
    {
     "name": "stdout",
     "output_type": "stream",
     "text": [
      "Test Dataset\n",
      "\n",
      "[[3 2]\n",
      " [0 5]]\n",
      "Logistic_Regression testing Accuracy =  0.8\n",
      "\n",
      "[[2 3]\n",
      " [1 4]]\n",
      "Decision_Tree_Classifier testing Accuracy =  0.6\n",
      "\n",
      "[[2 3]\n",
      " [0 5]]\n",
      "Random_Forest_Classifier testing Accuracy =  0.7\n",
      "\n",
      "[[3 2]\n",
      " [0 5]]\n",
      "KNN testing Accuracy =  0.8\n",
      "\n",
      "[[3 2]\n",
      " [0 5]]\n",
      "SVM testing Accuracy =  0.8\n",
      "\n"
     ]
    }
   ],
   "source": [
    "#test model accuracy on test data on confusion matrix\n",
    "\n",
    "modelr = ['Logistic_Regression', 'Decision_Tree_Classifier', 'Random_Forest_Classifier', 'KNN', 'SVM']\n",
    "\n",
    "print(\"Test Dataset\")\n",
    "print()\n",
    "from sklearn.metrics import confusion_matrix\n",
    "for i in range(len(model)):\n",
    "    cm = confusion_matrix(Y_test, model[i].predict(X_test))\n",
    "\n",
    "    \n",
    "    TP = cm[0][0]\n",
    "    TN = cm[1][1]\n",
    "    FP = cm[0][1]\n",
    "    FN = cm[1][0]\n",
    "\n",
    "    print(cm)\n",
    "    print(modelr[i]+' testing Accuracy = ', (TP+TN)/(TP+TN+FP+FN))\n",
    "    print()"
   ]
  },
  {
   "cell_type": "code",
   "execution_count": 71,
   "id": "399236c9-b122-4ad3-9e4c-7829afe8bbe1",
   "metadata": {},
   "outputs": [
    {
     "name": "stdout",
     "output_type": "stream",
     "text": [
      "Acedemic_Actual_Result= [1 0 1 0 0 0 1 0 1 1]\n",
      "\n",
      "Logistic_Regression_Result= [1 1 1 0 1 0 1 0 1 1]\n",
      "\n",
      "KNN_Result= [1 1 1 0 1 0 1 0 1 1]\n",
      "\n",
      "SVM_Result= [1 1 1 0 1 0 1 0 1 1]\n",
      "\n"
     ]
    }
   ],
   "source": [
    "#print  the prediction of random forest classifier model\n",
    "pred0 = model[0].predict(X_test)\n",
    "pred1 = model[1].predict(X_test)\n",
    "pred2 = model[2].predict(X_test)\n",
    "pred3 = model[3].predict(X_test)\n",
    "pred4 = model[4].predict(X_test)\n",
    "\n",
    "\n",
    "\n",
    "print(\"Acedemic_Actual_Result=\",  Y_test)\n",
    "print()\n",
    "print(\"Logistic_Regression_Result=\",  pred0)\n",
    "print()\n",
    "print(\"KNN_Result=\",  pred3)\n",
    "print()\n",
    "print(\"SVM_Result=\",  pred4)\n",
    "print()\n"
   ]
  },
  {
   "cell_type": "code",
   "execution_count": 179,
   "id": "6adf112f-2451-4bec-8009-6ee3bf2ae346",
   "metadata": {},
   "outputs": [],
   "source": [
    "AlgoPredicted = {\n",
    "    'Real_Data':Y_test,\n",
    "    'logistic_Regression': pred0,\n",
    "    'Decision_Tree': pred1,\n",
    "    'Random_Forest_Classifier': pred2,\n",
    "    'KNN': pred3,\n",
    "    'SVM': pred4\n",
    "}"
   ]
  },
  {
   "cell_type": "code",
   "execution_count": 180,
   "id": "580e5785-8394-4edd-911f-42044cd14ea9",
   "metadata": {},
   "outputs": [],
   "source": [
    "Predicted = pd.DataFrame(AlgoPredicted)"
   ]
  },
  {
   "cell_type": "code",
   "execution_count": 181,
   "id": "266dec23-f3b4-406f-810e-bc16a8d8f8d3",
   "metadata": {
    "scrolled": true
   },
   "outputs": [
    {
     "data": {
      "text/html": [
       "<div>\n",
       "<style scoped>\n",
       "    .dataframe tbody tr th:only-of-type {\n",
       "        vertical-align: middle;\n",
       "    }\n",
       "\n",
       "    .dataframe tbody tr th {\n",
       "        vertical-align: top;\n",
       "    }\n",
       "\n",
       "    .dataframe thead th {\n",
       "        text-align: right;\n",
       "    }\n",
       "</style>\n",
       "<table border=\"1\" class=\"dataframe\">\n",
       "  <thead>\n",
       "    <tr style=\"text-align: right;\">\n",
       "      <th></th>\n",
       "      <th>Real_Data</th>\n",
       "      <th>logistic_Regression</th>\n",
       "      <th>Decision_Tree</th>\n",
       "      <th>Random_Forest_Classifier</th>\n",
       "      <th>KNN</th>\n",
       "      <th>SVM</th>\n",
       "    </tr>\n",
       "  </thead>\n",
       "  <tbody>\n",
       "    <tr>\n",
       "      <th>0</th>\n",
       "      <td>1</td>\n",
       "      <td>1</td>\n",
       "      <td>1</td>\n",
       "      <td>1</td>\n",
       "      <td>1</td>\n",
       "      <td>1</td>\n",
       "    </tr>\n",
       "    <tr>\n",
       "      <th>1</th>\n",
       "      <td>0</td>\n",
       "      <td>1</td>\n",
       "      <td>0</td>\n",
       "      <td>1</td>\n",
       "      <td>1</td>\n",
       "      <td>1</td>\n",
       "    </tr>\n",
       "    <tr>\n",
       "      <th>2</th>\n",
       "      <td>1</td>\n",
       "      <td>1</td>\n",
       "      <td>1</td>\n",
       "      <td>1</td>\n",
       "      <td>1</td>\n",
       "      <td>1</td>\n",
       "    </tr>\n",
       "    <tr>\n",
       "      <th>3</th>\n",
       "      <td>0</td>\n",
       "      <td>0</td>\n",
       "      <td>1</td>\n",
       "      <td>1</td>\n",
       "      <td>0</td>\n",
       "      <td>0</td>\n",
       "    </tr>\n",
       "    <tr>\n",
       "      <th>4</th>\n",
       "      <td>0</td>\n",
       "      <td>1</td>\n",
       "      <td>1</td>\n",
       "      <td>1</td>\n",
       "      <td>1</td>\n",
       "      <td>1</td>\n",
       "    </tr>\n",
       "  </tbody>\n",
       "</table>\n",
       "</div>"
      ],
      "text/plain": [
       "   Real_Data  logistic_Regression  Decision_Tree  Random_Forest_Classifier  \\\n",
       "0          1                    1              1                         1   \n",
       "1          0                    1              0                         1   \n",
       "2          1                    1              1                         1   \n",
       "3          0                    0              1                         1   \n",
       "4          0                    1              1                         1   \n",
       "\n",
       "   KNN  SVM  \n",
       "0    1    1  \n",
       "1    1    1  \n",
       "2    1    1  \n",
       "3    0    0  \n",
       "4    1    1  "
      ]
     },
     "execution_count": 181,
     "metadata": {},
     "output_type": "execute_result"
    }
   ],
   "source": [
    "Predicted.head()"
   ]
  },
  {
   "cell_type": "code",
   "execution_count": 182,
   "id": "e32f6126-317d-4a19-89ea-b1e07b35d466",
   "metadata": {},
   "outputs": [
    {
     "data": {
      "text/plain": [
       "<seaborn.axisgrid.PairGrid at 0x1dfb6306bb0>"
      ]
     },
     "execution_count": 182,
     "metadata": {},
     "output_type": "execute_result"
    },
    {
     "data": {
      "image/png": "[encoded data removed]",
      "text/plain": [
       "<Figure size 900x900 with 30 Axes>"
      ]
     },
     "metadata": {},
     "output_type": "display_data"
    }
   ],
   "source": [
    "sns.pairplot(Predicted.iloc[:,1:6])"
   ]
  },
  {
   "cell_type": "code",
   "execution_count": 183,
   "id": "857a7365-0284-4b16-955f-871057ea828a",
   "metadata": {},
   "outputs": [
    {
     "data": {
      "text/plain": [
       "1    7\n",
       "0    3\n",
       "Name: KNN, dtype: int64"
      ]
     },
     "execution_count": 183,
     "metadata": {},
     "output_type": "execute_result"
    }
   ],
   "source": [
    "Predicted[\"KNN\"].value_counts()"
   ]
  },
  {
   "cell_type": "code",
   "execution_count": 184,
   "id": "44382f1b-2ebf-4f19-a7e0-73f04aef8c5a",
   "metadata": {},
   "outputs": [
    {
     "name": "stderr",
     "output_type": "stream",
     "text": [
      "C:\\Users\\soura\\anaconda3\\lib\\site-packages\\seaborn\\_decorators.py:36: FutureWarning: Pass the following variable as a keyword arg: x. From version 0.12, the only valid positional argument will be `data`, and passing other arguments without an explicit keyword will result in an error or misinterpretation.\n",
      "  warnings.warn(\n"
     ]
    },
    {
     "data": {
      "text/plain": [
       "<AxesSubplot:xlabel='Real_Data', ylabel='count'>"
      ]
     },
     "execution_count": 184,
     "metadata": {},
     "output_type": "execute_result"
    },
    {
     "data": {
      "image/png": "[encoded data removed]",
      "text/plain": [
       "<Figure size 432x288 with 1 Axes>"
      ]
     },
     "metadata": {},
     "output_type": "display_data"
    }
   ],
   "source": [
    "sns.countplot(Predicted['Real_Data'], label=\"count\")"
   ]
  },
  {
   "cell_type": "code",
   "execution_count": 185,
   "id": "dc751da2-813e-49a8-a226-cb9235cfbf14",
   "metadata": {},
   "outputs": [
    {
     "name": "stderr",
     "output_type": "stream",
     "text": [
      "C:\\Users\\soura\\anaconda3\\lib\\site-packages\\seaborn\\_decorators.py:36: FutureWarning: Pass the following variable as a keyword arg: x. From version 0.12, the only valid positional argument will be `data`, and passing other arguments without an explicit keyword will result in an error or misinterpretation.\n",
      "  warnings.warn(\n"
     ]
    },
    {
     "data": {
      "text/plain": [
       "<AxesSubplot:xlabel='logistic_Regression', ylabel='count'>"
      ]
     },
     "execution_count": 185,
     "metadata": {},
     "output_type": "execute_result"
    },
    {
     "data": {
      "image/png": "[encoded data removed]",
      "text/plain": [
       "<Figure size 432x288 with 1 Axes>"
      ]
     },
     "metadata": {},
     "output_type": "display_data"
    }
   ],
   "source": [
    "sns.countplot(Predicted['logistic_Regression'], label=\"count\")"
   ]
  },
  {
   "cell_type": "code",
   "execution_count": 186,
   "id": "76013f20-944f-4a95-93fb-11bf83ff6e2a",
   "metadata": {},
   "outputs": [
    {
     "name": "stderr",
     "output_type": "stream",
     "text": [
      "C:\\Users\\soura\\anaconda3\\lib\\site-packages\\seaborn\\_decorators.py:36: FutureWarning: Pass the following variable as a keyword arg: x. From version 0.12, the only valid positional argument will be `data`, and passing other arguments without an explicit keyword will result in an error or misinterpretation.\n",
      "  warnings.warn(\n"
     ]
    },
    {
     "data": {
      "text/plain": [
       "<AxesSubplot:xlabel='Decision_Tree', ylabel='count'>"
      ]
     },
     "execution_count": 186,
     "metadata": {},
     "output_type": "execute_result"
    },
    {
     "data": {
      "image/png": "[encoded data removed]",
      "text/plain": [
       "<Figure size 432x288 with 1 Axes>"
      ]
     },
     "metadata": {},
     "output_type": "display_data"
    }
   ],
   "source": [
    "sns.countplot(Predicted['Decision_Tree'], label=\"count\")"
   ]
  },
  {
   "cell_type": "code",
   "execution_count": 187,
   "id": "98ecadff-63ed-4979-acc7-68c3a7dda0ec",
   "metadata": {},
   "outputs": [
    {
     "name": "stderr",
     "output_type": "stream",
     "text": [
      "C:\\Users\\soura\\anaconda3\\lib\\site-packages\\seaborn\\_decorators.py:36: FutureWarning: Pass the following variable as a keyword arg: x. From version 0.12, the only valid positional argument will be `data`, and passing other arguments without an explicit keyword will result in an error or misinterpretation.\n",
      "  warnings.warn(\n"
     ]
    },
    {
     "data": {
      "text/plain": [
       "<AxesSubplot:xlabel='Random_Forest_Classifier', ylabel='count'>"
      ]
     },
     "execution_count": 187,
     "metadata": {},
     "output_type": "execute_result"
    },
    {
     "data": {
      "image/png": "[encoded data removed]",
      "text/plain": [
       "<Figure size 432x288 with 1 Axes>"
      ]
     },
     "metadata": {},
     "output_type": "display_data"
    }
   ],
   "source": [
    "sns.countplot(Predicted['Random_Forest_Classifier'], label=\"count\")"
   ]
  },
  {
   "cell_type": "code",
   "execution_count": 188,
   "id": "3a8b5df3-a955-4cb9-8a87-c3005e3dcb25",
   "metadata": {},
   "outputs": [
    {
     "name": "stderr",
     "output_type": "stream",
     "text": [
      "C:\\Users\\soura\\anaconda3\\lib\\site-packages\\seaborn\\_decorators.py:36: FutureWarning: Pass the following variable as a keyword arg: x. From version 0.12, the only valid positional argument will be `data`, and passing other arguments without an explicit keyword will result in an error or misinterpretation.\n",
      "  warnings.warn(\n"
     ]
    },
    {
     "data": {
      "text/plain": [
       "<AxesSubplot:xlabel='KNN', ylabel='count'>"
      ]
     },
     "execution_count": 188,
     "metadata": {},
     "output_type": "execute_result"
    },
    {
     "data": {
      "image/png": "[encoded data removed]",
      "text/plain": [
       "<Figure size 432x288 with 1 Axes>"
      ]
     },
     "metadata": {},
     "output_type": "display_data"
    }
   ],
   "source": [
    "sns.countplot(Predicted['KNN'], label=\"count\")"
   ]
  },
  {
   "cell_type": "code",
   "execution_count": 189,
   "id": "519a1b00-2a0b-4e1e-8036-6220ef9174ce",
   "metadata": {},
   "outputs": [
    {
     "name": "stderr",
     "output_type": "stream",
     "text": [
      "C:\\Users\\soura\\anaconda3\\lib\\site-packages\\seaborn\\_decorators.py:36: FutureWarning: Pass the following variable as a keyword arg: x. From version 0.12, the only valid positional argument will be `data`, and passing other arguments without an explicit keyword will result in an error or misinterpretation.\n",
      "  warnings.warn(\n"
     ]
    },
    {
     "data": {
      "text/plain": [
       "<AxesSubplot:xlabel='SVM', ylabel='count'>"
      ]
     },
     "execution_count": 189,
     "metadata": {},
     "output_type": "execute_result"
    },
    {
     "data": {
      "image/png": "[encoded data removed]",
      "text/plain": [
       "<Figure size 432x288 with 1 Axes>"
      ]
     },
     "metadata": {},
     "output_type": "display_data"
    }
   ],
   "source": [
    "sns.countplot(Predicted['SVM'], label=\"count\")"
   ]
  },
  {
   "cell_type": "code",
   "execution_count": null,
   "id": "ea7b250f-d66d-42c5-a078-e36208fc3b18",
   "metadata": {},
   "outputs": [],
   "source": []
  },
  {
   "cell_type": "code",
   "execution_count": null,
   "id": "82bad8bf-a9a7-42b8-b0eb-b4cc82745cee",
   "metadata": {},
   "outputs": [],
   "source": []
  }
 ],
 "metadata": {
  "kernelspec": {
   "display_name": "Python 3 (ipykernel)",
   "language": "python",
   "name": "python3"
  },
  "language_info": {
   "codemirror_mode": {
    "name": "ipython",
    "version": 3
   },
   "file_extension": ".py",
   "mimetype": "text/x-python",
   "name": "python",
   "nbconvert_exporter": "python",
   "pygments_lexer": "ipython3",
   "version": "3.8.8"
  }
 },
 "nbformat": 4,
 "nbformat_minor": 5
}
